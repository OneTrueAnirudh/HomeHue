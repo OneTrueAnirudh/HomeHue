{
 "cells": [
  {
   "cell_type": "code",
   "execution_count": 1,
   "metadata": {},
   "outputs": [],
   "source": [
    "#importing utility functions\n",
    "\n",
    "from color_palette_extractor import extract_colors_gmm"
   ]
  },
  {
   "cell_type": "code",
   "execution_count": 2,
   "metadata": {},
   "outputs": [
    {
     "name": "stdout",
     "output_type": "stream",
     "text": [
      "Hex codes of top colors: ['#334656', '#a5a7a9', '#677c94', '#f3ede1', '#6d5543']\n"
     ]
    },
    {
     "data": {
      "image/png": "[encoded data removed]",
      "text/plain": [
       "<Figure size 1000x200 with 5 Axes>"
      ]
     },
     "metadata": {},
     "output_type": "display_data"
    }
   ],
   "source": [
    "#extracting colors from the dataset image\n",
    "\n",
    "image_path = r\"pinterest_images\\image_20240923_151746_587963.jpg\"\n",
    "n_colors = 5\n",
    "extract_colors_gmm(image_path, n_colors, saturation_scale=1.1, contrast_alpha=1.1, contrast_beta=5)"
   ]
  }
 ],
 "metadata": {
  "kernelspec": {
   "display_name": "venv",
   "language": "python",
   "name": "python3"
  },
  "language_info": {
   "codemirror_mode": {
    "name": "ipython",
    "version": 3
   },
   "file_extension": ".py",
   "mimetype": "text/x-python",
   "name": "python",
   "nbconvert_exporter": "python",
   "pygments_lexer": "ipython3",
   "version": "3.12.2"
  }
 },
 "nbformat": 4,
 "nbformat_minor": 2
}
