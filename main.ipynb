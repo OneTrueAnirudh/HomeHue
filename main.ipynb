{
 "cells": [
  {
   "cell_type": "code",
   "execution_count": 1,
   "metadata": {},
   "outputs": [],
   "source": [
    "#importing libraries\n",
    "\n",
    "import cv2"
   ]
  },
  {
   "cell_type": "code",
   "execution_count": 2,
   "metadata": {},
   "outputs": [],
   "source": [
    "#importing utility functions\n",
    "\n",
    "from GUI import browse\n",
    "from color_palette_extractor import extract_colors_gmm"
   ]
  },
  {
   "cell_type": "code",
   "execution_count": null,
   "metadata": {},
   "outputs": [],
   "source": [
    "# Allowing user to upload an image\n",
    "\n",
    "import ipywidgets as widgets\n",
    "from IPython.display import display\n",
    "from GUI import browse  # Assuming browse() is defined in GUI.py and returns the image path\n",
    "\n",
    "# Create a button widget for uploading\n",
    "upload_button = widgets.Button(description=\"Upload Image\")\n",
    "output = widgets.Output()\n",
    "\n",
    "# Mutable list to store img_path\n",
    "img_path_holder = [None]  # Create a list to hold the image path\n",
    "\n",
    "def on_button_click(b):\n",
    "    with output:\n",
    "        output.clear_output()\n",
    "        img_path_holder[0] = browse()  # Update the first element of the list\n",
    "        print(f\"Image path: {img_path_holder[0]}\")\n",
    "\n",
    "upload_button.on_click(on_button_click)\n",
    "display(upload_button, output)\n",
    "\n",
    "# Now img_path_holder[0] can be accessed outside the function to get the selected image path\n"
   ]
  },
  {
   "cell_type": "code",
   "execution_count": null,
   "metadata": {},
   "outputs": [],
   "source": [
    "#extracting colors from the dataset image\n",
    "\n",
    "n_colors = 5\n",
    "extract_colors_gmm(img_path, n_colors, saturation_scale=1.1, contrast_alpha=1.1, contrast_beta=5)"
   ]
  }
 ],
 "metadata": {
  "kernelspec": {
   "display_name": "venv",
   "language": "python",
   "name": "python3"
  },
  "language_info": {
   "codemirror_mode": {
    "name": "ipython",
    "version": 3
   },
   "file_extension": ".py",
   "mimetype": "text/x-python",
   "name": "python",
   "nbconvert_exporter": "python",
   "pygments_lexer": "ipython3",
   "version": "3.12.2"
  }
 },
 "nbformat": 4,
 "nbformat_minor": 2
}
