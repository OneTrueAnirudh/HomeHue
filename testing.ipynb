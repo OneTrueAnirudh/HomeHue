{
 "cells": [
  {
   "cell_type": "code",
   "execution_count": 16,
   "metadata": {
    "pycharm": {
     "name": "#%%\n"
    }
   },
   "outputs": [],
   "source": [
    "from matplotlib.pyplot import imshow\n",
    "\n",
    "from models.models import SegmentationModule, build_encoder, build_decoder\n",
    "from src.eval import segment_image\n",
    "from utils.constants import DEVICE"
   ]
  },
  {
   "cell_type": "code",
   "execution_count": 17,
   "metadata": {
    "pycharm": {
     "name": "#%%\n"
    }
   },
   "outputs": [],
   "source": [
    "# path to image on which to run wall segmentation\n",
    "path_image = r'C:\\HomeHue\\pinterest_images\\image_20240928_205707_256818.jpg'\n",
    "\n",
    "# Model weights (encoder and decoder)\n",
    "weights_encoder = r'C:\\HomeHue\\model_weights\\best_encoder_epoch_19.pth'\n",
    "weights_decoder = r'C:\\HomeHue\\model_weights\\best_decoder_epoch_19.pth'"
   ]
  },
  {
   "cell_type": "code",
   "execution_count": 18,
   "metadata": {
    "pycharm": {
     "name": "#%%\n"
    }
   },
   "outputs": [
    {
     "name": "stdout",
     "output_type": "stream",
     "text": [
      "Building encoder: resnet50-dilated\n",
      "Loading weights for net_encoder\n",
      "Loading weights for net_decoder\n"
     ]
    }
   ],
   "source": [
    "net_encoder = build_encoder(weights_encoder)\n",
    "net_decoder = build_decoder(weights_decoder)\n",
    "\n",
    "segmentation_module = SegmentationModule(net_encoder, net_decoder)\n",
    "segmentation_module = segmentation_module.to(DEVICE).eval()"
   ]
  },
  {
   "cell_type": "code",
   "execution_count": 19,
   "metadata": {
    "pycharm": {
     "name": "#%%\n"
    }
   },
   "outputs": [],
   "source": [
    "# Predict wall on input image and return segmentation mask\n",
    "segmentation_mask = segment_image(segmentation_module, path_image)"
   ]
  },
  {
   "cell_type": "code",
   "execution_count": 20,
   "metadata": {
    "pycharm": {
     "name": "#%%\n"
    }
   },
   "outputs": [
    {
     "data": {
      "text/plain": [
       "<matplotlib.image.AxesImage at 0x1ca8c155730>"
      ]
     },
     "execution_count": 20,
     "metadata": {},
     "output_type": "execute_result"
    },
    {
     "data": {
      "image/png": "[encoded data removed]",
      "text/plain": [
       "<Figure size 640x480 with 1 Axes>"
      ]
     },
     "metadata": {},
     "output_type": "display_data"
    }
   ],
   "source": [
    "# Display segmentation mask\n",
    "imshow(segmentation_mask)"
   ]
  }
 ],
 "metadata": {
  "accelerator": "GPU",
  "colab": {
   "collapsed_sections": [],
   "name": "Testing.ipynb",
   "provenance": []
  },
  "kernelspec": {
   "display_name": "Python 3 (ipykernel)",
   "language": "python",
   "name": "python3"
  },
  "language_info": {
   "codemirror_mode": {
    "name": "ipython",
    "version": 3
   },
   "file_extension": ".py",
   "mimetype": "text/x-python",
   "name": "python",
   "nbconvert_exporter": "python",
   "pygments_lexer": "ipython3",
   "version": "3.12.2"
  }
 },
 "nbformat": 4,
 "nbformat_minor": 1
}
